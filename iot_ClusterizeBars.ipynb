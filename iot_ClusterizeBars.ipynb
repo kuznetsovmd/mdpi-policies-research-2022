{
 "cells": [
  {
   "cell_type": "markdown",
   "id": "2ca8c41e",
   "metadata": {},
   "source": [
    "<h1>Preparing Data</h1>"
   ]
  },
  {
   "cell_type": "code",
   "execution_count": 1,
   "id": "bdec3ecd",
   "metadata": {},
   "outputs": [],
   "source": [
    "from collections import Counter\n",
    "from scripts.groups_iot import groups\n",
    "from scripts.lda import LDA\n",
    "from scripts.functions import files\n",
    "\n",
    "\n",
    "policies = []\n",
    "\n",
    "fs = files(\"resources/datasets/plain_policies\", r\".*\")\n",
    "for f in fs:\n",
    "    with open(f, \"r\", encoding=\"utf-8\") as fl:\n",
    "        policies.append([p for p in fl.read().split(\"\\n\") if len(p) >= 100])"
   ]
  },
  {
   "cell_type": "code",
   "execution_count": 2,
   "id": "f80850c0",
   "metadata": {},
   "outputs": [
    {
     "data": {
      "text/plain": [
       "['Thank you for visiting this website (the Website). Vornado Air LLC (the Company, we, or us) is committed to protecting your privacy. We strive to keep your Personal Information (as defined below) confidential.',\n",
       " 'This Privacy Policy describes: (i) the customer information we collect, including Personal Information, how long we retain it and why; (ii) how we use information and Personal Information and when (and if) we share it with third parties; (iii) the choices you can make about how your Personal Information is collected, used and shared; (iv) how to correct, delete or transfer your Personal Information; and (v) the data security, accuracy and access measures we have adopted to protect Personal Information under our control from loss, misuse or alteration.',\n",
       " 'BY USING THE WEBSITE, YOU ARE CONSENTING TO THIS PRIVACY POLICY. THIS PRIVACY POLICY IS INCORPORATED INTO AND MADE PART OF OUR {REMOVED HREF} TERMS OF SERVICE. PLEASE READ THE ENTIRE PRIVACY POLICY AND ALSO OUR TERMS OF SERVICE CAREFULLY.',\n",
       " 'This Privacy Policy does not apply to information collected by any third party, even if such information is collected through an application or content (including advertising) that is linked to or accessible from the Website.',\n",
       " 'The Company is the data controller with respect to all of the information, including Personal Information, collected from visitors to the Website. The obligations of a controller is to provide you with information of what, why and how we process your information.',\n",
       " 'When used in this Privacy Policy, the term Personal Information means any information by which you can be identified, such as your name, address, telephone number, etc. Other information that does not relate to or identify you as an individual is not Personal Information.',\n",
       " 'We collect Personal Information for the purpose of enabling us to contact you directly, confirming your identity, fulfilling requests or communications on our Website, and complying with relevant laws and regulations. We will only process information about you when having a lawful ground and business reason to do so. In general we rely on the following reasons to collect and process your data:',\n",
       " '{list item} Providing our Website and services: We process your Personal Information to perform our agreement with you for the use of our Website and services and to fulfill our obligations under the applicable terms of use and service; if we have not entered into an agreement with you, we base the processing of your Personal Information on our legitimate interest to operate and administer our Website and to provide you with content you access and request (e. g., to download content from our Website);',\n",
       " '{list item} Promoting the security of our Website and services: We process your Personal Information by tracking use of our Website and services, creating aggregated non-personal data, verifying accounts and activity, investigating suspicious activity, and enforcing our Terms of Service and policies to the extent it is necessary for our legitimate interest in promoting the safety and security of the services, systems and applications and in protecting our rights and the rights of others;',\n",
       " '{list item} Providing necessary functionality: We process your Personal Information to perform our agreement with you for the use of our Websites and services; if we have not entered into an agreement with you, we base the processing of your Personal Information on our legitimate interest to provide you with the necessary functionality required for your use of our Website and services;',\n",
       " '{list item} Managing user registrations: If you have registered for an account with us or provided information, we process your Personal Information by managing your user account for the purpose of providing information or performing our agreement with you according to applicable terms of service;',\n",
       " '{list item} Handling contact and user support requests: If you fill out a contact me web form or request user support, or if you contact us by other means including via a phone call, we process your Personal Information to perform our agreement with you and to the extent it is necessary for our legitimate interest in fulfilling your requests and communicating with you;',\n",
       " '{list item} Managing event registrations and attendance: We process your Personal Information to plan and host events or webinars for which you have registered or that you attend, including sending related communications to you, to perform our agreement with you;',\n",
       " '{list item} Managing contests or promotions: If you register for a contest or promotion, we process your Personal Information to perform our agreement with you. Some contests or promotions have additional rules containing information about how we will process your Personal Information;',\n",
       " '{list item} Managing payments: If you have provided financial information to us, we process your Personal Information to verify that information and to collect payments to the extent that doing so is necessary to complete a transaction and perform our agreement with you;',\n",
       " '{list item} Developing and improving our Website and services: We process your Personal Information to analyze trends and to track your usage of and interactions with our Website and services to the extent it is necessary for our legitimate interest in developing and improving our Website and services and providing our users with more relevant content and service offerings, or where we seek your valid consent;',\n",
       " '{list item} Assessing and improving user experience: We process device and usage data, which in some cases may be associated with your Personal Information, to analyze trends and assess and improve the overall user experience to the extent it is necessary for our legitimate interest in developing and improving the service offering, or where we seek your valid consent;',\n",
       " '{list item} Reviewing compliance with applicable usage terms: We process your Personal Information to review compliance with the applicable usage terms in our customers agreement to the extent that it is in our legitimate interest to ensure adherence to the relevant terms;',\n",
       " '{list item} Assessing capacity requirements: We process your Personal Information to assess the capacity requirements of our services to the extent that it is in our legitimate interest to ensure that we are meeting the necessary capacity requirements of our service offering;',\n",
       " '{list item} Identifying customer opportunities: We process your Personal Information to assess new potential customer opportunities to the extent that it is in our legitimate interest to ensure that we are meeting the demands of our customers and their users experiences;',\n",
       " '{list item} Displaying personalized advertisements and content: We process your Personal Information to conduct marketing research, advertise to you, provide personalized information about us on and off our Website and to provide other personalized content based upon your activities and interests to the extent it is necessary for our legitimate interest in advertising our Website or, where necessary, to the extent you have provided your prior consent;',\n",
       " '{list item} Sending marketing communications: We will process your Personal Information or device and usage data, which in some cases may be associated with your Personal Information, to send you marketing information, product recommendations and other non-transactional communications (e. g., marketing newsletters, telemarketing calls, SMS, or push notifications) about us and our affiliates and partners, including information about our products, promotions or events as necessary for our legitimate interest in conducting direct marketing or to the extent you have provided your prior consent;',\n",
       " '{list item} Business transfers: We may share or transfer your information in connection with, or during negotiations of, any merger, sale of company assets, financing, or acquisition of all or a portion of our business to another company; and.',\n",
       " '{list item} Complying with legal obligations: We process your Personal Information when cooperating with public and government authorities, courts or regulators in accordance with our legal obligations under applicable laws to the extent this requires the processing or disclosure of Personal Information to protect our rights or is necessary for our legitimate interest in protecting against misuse or abuse of our Website, protecting personal property or safety, pursuing remedies available to us and limiting our damages, complying with judicial proceedings, court orders or legal processes, respond to lawful requests, or for auditing purposes.',\n",
       " 'Whether or not to provide the Company with Personal Information is completely your own choice. But if you choose not to provide the information we request, you will be unable to receive certain information and services on our Website. We collect information about you in several ways. For example, we might ask for your contact information when you correspond with us, call us to make a purchase, or request service. We also collect information, including Personal Information, when you create an account, participate in any interactive features of the Website, fill out a form, or otherwise communicate with us via the Website. In addition, when you register for our services or ask to be included in an email mailing list, we collect and store the information and Personal Information you provide in a secure database.',\n",
       " 'By submitting your Personal Information to the Company you agree that you do not object to any transfer, processing or storage of Personal Information in accordance with this Privacy Policy.',\n",
       " 'The Personal Information that you provide to us and information about your order may be combined with other Personal Information (such as demographic information and past purchase history) available from our records and other sources. This information may, with your consent, be used to for future marketing efforts, business development and making the operation of our Website more efficient.',\n",
       " 'Occasionally we may use Personal Information to send you details of new services, updates, and invites to events. We will, however, only do so when we have a legitimate interest to contact you and/or where you consent to being contacted in such way. If you prefer not to receive promotional material from the Company, please let us know by e-mailing us at {removed href} {removed hyperref} and put unsubscribe in the subject line together with the name of the publication you wish to unsubscribe from. Our marketing communications will also include an unsubscribe link.',\n",
       " 'If some or all or substantially all of our business assets were to be acquired, or in the unlikely event that we go out of business or enter into bankruptcy, customer information (including your Personal Information), would be one of the assets that is transferred or acquired by a third party. You acknowledge that such transfers may occur, and that any assets, including your Personal Information, may continue to be used as set forth in this Privacy Policy.',\n",
       " 'We do not provide Personal Information to any unaffiliated parties or third parties, except in certain circumstances as set forth in this Privacy Policy.',\n",
       " 'To provide and administer our Website and our products and services, we may need to share your Personal Information with our partners and different service providers or suppliers that we work with. This does not adversely affect your rights. We will take all reasonable steps necessary to ensure transferred information is kept secure as required by applicable data privacy laws.',\n",
       " 'We may disclose blind aggregated data and user statistics to prospective partners and other third parties, and for other lawful purposes. Blind data is data which does not identify an individual person or disclose Personal Information. We may also disclose Personal Information with your consent or at your direction.',\n",
       " 'Please be advised that in certain circumstances, the Company may be required to disclose your Personal Information to governmental organizations, attorneys and private agencies that conduct relevant criminal and civil investigations, or otherwise as required by our legal obligations.',\n",
       " 'We retain Personal Information as necessary to service your use of the Website and our services. We also keep Personal Information, meta data, documentation, and any other relevant information as permitted and/or required by law.',\n",
       " 'When the retention time is reached your information may be destroyed. You may also ask the Company to transfer your Personal Information upon request. Please contact {removed href} {removed hyperref} to request transfer of your Personal Information or for more information regarding retention time and retention of information.',\n",
       " 'We want to keep your Personal Information as correct and updated as possible. If your Personal Information is incorrect or has changed, please inform us by sending us an email to {removed href} {removed hyperref}.',\n",
       " 'Following your initial transaction or registration on our Website, we want to continue to communicate with you only if you want to hear from us. If you prefer not to receive information from us please let us know by sending your written request via email to {removed href} {removed hyperref}. Please provide your full name and email address, and describe specifically what information you do not want to receive. Please note that it may take up to two weeks for your request to become effective.',\n",
       " 'As part of offering and providing customizable and personalized services, many websites use cookies to store and sometimes track information about you. A cookie is a small amount of data that is sent to your browser from a web server and stored on your computers hard drive. We use cookies to allow faster and easier access to your account information, monitor traffic on the Website, and measure traffic patterns to improve functionality of the Website. Our web pages may also contain electronic images known as web beacons (sometimes called clear gifs, pixel tags, and single-pixel gifts) or other advanced technologies that are useful in the provision of services to you, permitting us, for example, to counter users who have visited those pages and for other related Website statistics. We may also use such devices to verify compliance with our terms and conditions of use or with any promotions on the Website.',\n",
       " 'If you do not want the Company to deploy cookies in your browser, you can set your browser to reject cookies or to notify you when a website tries to put a cookie in your browser software. Rejecting cookies may affect your ability to use of some of the services and functionalities at our Website.',\n",
       " 'We may track domain names, IP addresses, browser types, resolution, etc. from people who visit our Website. We use this information to track aggregate traffic patterns throughout the Website. Such information is not correlated with any Personal Information.',\n",
       " 'As previously stated, the Company may also use cookies to track your visit to our Site. While our web servers may automatically log your IP address, this information will not be used to identify you and you remain anonymous.',\n",
       " 'The Website may offer social sharing features and other integrated tools (such as the Facebook Like button and the Twitter Follow button), which let you share actions you take on the Website with other media. The use of such features enables the sharing of information with your friends or the public, depending on the privacy settings you establish with the entity that provides the social sharing feature. You use these social sharing features at your own risk. No security measures, including the privacy settings referenced above, are perfect or impenetrable. We cannot and do not guarantee that the information you share using such features will not be viewed by unauthorized persons. For more information about the purpose and scope of data collection and processing in connection with social sharing features, please visit the privacy policies of the entities that provide these features.',\n",
       " 'The Company uses commercially reasonable efforts to safeguard the security of your information with physical, electronic, and managerial procedures. Likewise, we urge you to take every precaution to protect your Personal Information when you are on the Internet. Change your passwords often, use a combination of letters and numbers and make sure you use a secure browser. The Website uses industry-standard Secure Sockets Layer (SSL) encryption on all web pages where Personal Information is required. We may update browser requirements from time to time by posting a notice on the Website.',\n",
       " 'Because of the global nature of the Internet, when you give us information, that information may be sent electronically to servers outside of the country where you originally entered the information. Unfortunately, no data transmission over the Internet can be guaranteed to be 100 secure. Except as discussed above or otherwise designated, the Website does not use security encryption measures. Therefore, information that you disclose by use of the Website (as with any website that is non-secure), by posting a message or using e-mail, potentially could be collected and used by others. This may result in unsolicited messages from third parties or use of such information by third parties for their own purposes, legal or illegal. As a result, while we strive to protect your Personal Information, we cannot ensure or warrant the security of any information you transmit to us or from our services, and you do so at your own risk.',\n",
       " 'The Website may contain links to third party websites and applications of interest, including advertisements and external services that are not affiliated with us. Once you have used these links to leave the Website, any information you provide to these third parties is not covered by this Privacy Policy, and we cannot guarantee the safety and privacy of your information and Personal Information. Before visiting and providing any information to any third party websites, you should inform yourself of the privacy policies and practices (if any) of the third party responsible for that website, and should take those steps necessary to, in your discretion, protect the privacy of your information and Personal Information. We are not responsible for the content, privacy, security practices, or policies of any third parties, including other websites, services, or applications that may be linked to or from the Website.',\n",
       " 'The Company does not knowingly solicit Personal Information from children or send them requests for Personal Information. If you are under 13, do not use or provide any information on this Website or on or through any of its features. If we learn we have collected or received Personal Information from a child under 13 without verification of parental consent, we will delete that information.',\n",
       " 'The California Consumer Privacy Act requires businesses to disclose whether they sell Personal Information. As a business, we do not sell Personal Information. We may share Personal Information with third parties or allow them to collect Personal Information from our Website or services if those third parties are authorized service providers or business partners who have agreed to our contractual limitations as to their retention, use, and disclosure of such Personal Information, or if you use our Website or services to interact with third parties or direct us to disclose your Personal Information to third parties.',\n",
       " 'California law requires that we detail the categories of Personal Information that we share or disclose for certain business purposes, such as disclosures to service providers that assist us with securing our services or marketing our products. We disclose the following categories of Personal Information for our business purposes:',\n",
       " 'California law grants state residents certain rights, including the rights to access specific types of Personal Information, to learn how we process Personal Information, to request deletion of Personal Information, and not to be denied goods or services for exercising these rights.',\n",
       " 'If you are a California resident under the age of 18 and have registered for an account with us, you may ask us to remove content or information that you have posted to our Website. Please note that your request may not ensure complete or comprehensive removal of the content or information, because, for example, some of your content may have been reposted by another user.',\n",
       " 'To make a request related to California Privacy Rights, please contact us electronically at {removed href} {removed hyperref} or write to us at the address set forth below. We may need to verify your identity and place of residence before completing your rights request.',\n",
       " 'The Company reserves the right to amend, alter, or otherwise change this Privacy Policy at our sole and absolute discretion. Further use of the Website following any such change constitutes your agreement to follow and be bound by the modified Privacy Policy. We encourage you to periodically review the Privacy Policy to stay informed about how we are helping to protect the Personal Information we collect.',\n",
       " 'The Company welcomes your comments regarding the Privacy Policy. If you believe that the Company has not adhered to the Privacy Policy, please contact us electronically at {removed href} {removed hyperref}, and we will use commercially reasonable efforts to promptly determine and remedy the problem.']"
      ]
     },
     "execution_count": 2,
     "metadata": {},
     "output_type": "execute_result"
    }
   ],
   "source": [
    "policies[0]"
   ]
  },
  {
   "cell_type": "code",
   "execution_count": 3,
   "id": "86e41813",
   "metadata": {},
   "outputs": [
    {
     "name": "stderr",
     "output_type": "stream",
     "text": [
      "[nltk_data] Downloading package punkt to /home/user/nltk_data...\n",
      "[nltk_data]   Package punkt is already up-to-date!\n",
      "[nltk_data] Downloading package wordnet to /home/user/nltk_data...\n",
      "[nltk_data]   Package wordnet is already up-to-date!\n",
      "[nltk_data] Downloading package stopwords to /home/user/nltk_data...\n",
      "[nltk_data]   Package stopwords is already up-to-date!\n",
      "[nltk_data] Downloading package omw-1.4 to /home/user/nltk_data...\n",
      "[nltk_data]   Package omw-1.4 is already up-to-date!\n"
     ]
    }
   ],
   "source": [
    "import numpy as np\n",
    "\n",
    "iot_tfidf = LDA(\n",
    "    [par for policy in policies for par in policy],\n",
    "    freq=\"tf-idf\", topics_count=15, saved=\"model_20220127_160914\"\n",
    ")\n",
    "\n",
    "scores = [0 for _ in range(14)]\n",
    "\n",
    "for policy in policies:\n",
    "    \n",
    "    for paragraph in policy:\n",
    "        topics = iot_tfidf.get_document_topics(paragraph.lower().split(), minimum_probability=.7)\n",
    "\n",
    "        for g in groups:\n",
    "            for t in topics:\n",
    "\n",
    "                if t[0] in g[\"topics\"]:\n",
    "                    scores[g[\"id\"]] += 1\n",
    "                    \n",
    "aspects_sum = sum(scores)"
   ]
  },
  {
   "cell_type": "code",
   "execution_count": 4,
   "id": "dacedb92",
   "metadata": {},
   "outputs": [
    {
     "data": {
      "text/plain": [
       "[56, 131, 4, 40, 16, 4, 12, 2, 65, 204, 1, 2, 60, 248]"
      ]
     },
     "execution_count": 4,
     "metadata": {},
     "output_type": "execute_result"
    }
   ],
   "source": [
    "scores"
   ]
  },
  {
   "cell_type": "code",
   "execution_count": 5,
   "id": "92d99999",
   "metadata": {},
   "outputs": [],
   "source": [
    "keys = [g[\"name\"] for g in groups]"
   ]
  },
  {
   "cell_type": "code",
   "execution_count": 6,
   "id": "b9b0704f",
   "metadata": {},
   "outputs": [
    {
     "data": {
      "text/plain": [
       "['Organization contact information',\n",
       " 'Policy change',\n",
       " 'Legal basis & Data protection',\n",
       " 'First party collection: Opt-in, opt-out<br>for marketing purposes',\n",
       " 'First party collection: tracking data (cookies)',\n",
       " 'First party collection: Data about employees',\n",
       " 'First party collection: Account information',\n",
       " 'Special audience: California residents',\n",
       " 'Special audience: Children',\n",
       " 'First party collection: Generic information',\n",
       " 'Third party sharing in case of<br>merge and acquisition',\n",
       " 'First party collection: Other',\n",
       " 'Data security',\n",
       " 'Third party sharing: Advertising and analytics']"
      ]
     },
     "execution_count": 6,
     "metadata": {},
     "output_type": "execute_result"
    }
   ],
   "source": [
    "keys"
   ]
  },
  {
   "cell_type": "code",
   "execution_count": 23,
   "id": "16684dfa",
   "metadata": {},
   "outputs": [],
   "source": [
    "import plotly.express as px\n",
    "import plotly.graph_objects as go\n",
    "from scripts.functions import resolve_group_name\n",
    "\n",
    "fig = go.Figure()\n",
    "\n",
    "fig.update_layout(\n",
    "    font=dict(\n",
    "        size=18,\n",
    "        color=\"#000000\",\n",
    "    ),\n",
    "    colorway=list(reversed([*px.colors.qualitative.Dark24[:5], *px.colors.qualitative.Dark24[7:16]])),\n",
    "    showlegend=True,\n",
    "    legend=dict(\n",
    "        yanchor=\"top\",\n",
    "        xanchor=\"left\",\n",
    "        x=1,\n",
    "        y=1\n",
    "    ),\n",
    "    barmode=\"group\",\n",
    "    width=1000,\n",
    "    height=650\n",
    ")\n",
    "\n",
    "for i, v in reversed(list(enumerate(scores))):\n",
    "    fig.add_bar(\n",
    "        name=resolve_group_name(i, groups),\n",
    "        y=[v / aspects_sum * 100],\n",
    "    )\n",
    "\n",
    "fig.update_xaxes(showgrid=False, title_text='Policies` aspects', showticklabels=False)\n",
    "fig.update_yaxes(showgrid=True, title_text='Percent of aspect in corpus')\n",
    "\n",
    "pass"
   ]
  },
  {
   "cell_type": "code",
   "execution_count": 24,
   "id": "e99427b2-35c6-42b2-99be-e6bd7d3fb6bf",
   "metadata": {},
   "outputs": [
    {
     "data": {
      "application/vnd.plotly.v1+json": {
       "config": {
        "plotlyServerURL": "https://plot.ly"
       },
       "data": [
        {
         "name": "Third party sharing: Advertising and analytics",
         "type": "bar",
         "y": [
          29.3491124260355
         ]
        },
        {
         "name": "Data security",
         "type": "bar",
         "y": [
          7.100591715976331
         ]
        },
        {
         "name": "First party collection: Other",
         "type": "bar",
         "y": [
          0.2366863905325444
         ]
        },
        {
         "name": "Third party sharing in case of<br>merge and acquisition",
         "type": "bar",
         "y": [
          0.1183431952662722
         ]
        },
        {
         "name": "First party collection: Generic information",
         "type": "bar",
         "y": [
          24.142011834319526
         ]
        },
        {
         "name": "Special audience: Children",
         "type": "bar",
         "y": [
          7.6923076923076925
         ]
        },
        {
         "name": "Special audience: California residents",
         "type": "bar",
         "y": [
          0.2366863905325444
         ]
        },
        {
         "name": "First party collection: Account information",
         "type": "bar",
         "y": [
          1.4201183431952662
         ]
        },
        {
         "name": "First party collection: Data about employees",
         "type": "bar",
         "y": [
          0.4733727810650888
         ]
        },
        {
         "name": "First party collection: tracking data (cookies)",
         "type": "bar",
         "y": [
          1.8934911242603552
         ]
        },
        {
         "name": "First party collection: Opt-in, opt-out<br>for marketing purposes",
         "type": "bar",
         "y": [
          4.733727810650888
         ]
        },
        {
         "name": "Legal basis & Data protection",
         "type": "bar",
         "y": [
          0.4733727810650888
         ]
        },
        {
         "name": "Policy change",
         "type": "bar",
         "y": [
          15.502958579881657
         ]
        },
        {
         "name": "Organization contact information",
         "type": "bar",
         "y": [
          6.627218934911243
         ]
        }
       ],
       "layout": {
        "barmode": "group",
        "colorway": [
         "#778AAE",
         "#6C7C32",
         "#B2828D",
         "#FC0080",
         "#FB00D1",
         "#00A08B",
         "#511CFB",
         "#EB663B",
         "#750D86",
         "#DA16FF",
         "#FB0D0D",
         "#1CA71C",
         "#E15F99",
         "#2E91E5"
        ],
        "font": {
         "color": "#000000",
         "size": 18
        },
        "height": 650,
        "legend": {
         "x": 1,
         "xanchor": "left",
         "y": 1,
         "yanchor": "top"
        },
        "showlegend": true,
        "template": {
         "data": {
          "bar": [
           {
            "error_x": {
             "color": "#2a3f5f"
            },
            "error_y": {
             "color": "#2a3f5f"
            },
            "marker": {
             "line": {
              "color": "#E5ECF6",
              "width": 0.5
             },
             "pattern": {
              "fillmode": "overlay",
              "size": 10,
              "solidity": 0.2
             }
            },
            "type": "bar"
           }
          ],
          "barpolar": [
           {
            "marker": {
             "line": {
              "color": "#E5ECF6",
              "width": 0.5
             },
             "pattern": {
              "fillmode": "overlay",
              "size": 10,
              "solidity": 0.2
             }
            },
            "type": "barpolar"
           }
          ],
          "carpet": [
           {
            "aaxis": {
             "endlinecolor": "#2a3f5f",
             "gridcolor": "white",
             "linecolor": "white",
             "minorgridcolor": "white",
             "startlinecolor": "#2a3f5f"
            },
            "baxis": {
             "endlinecolor": "#2a3f5f",
             "gridcolor": "white",
             "linecolor": "white",
             "minorgridcolor": "white",
             "startlinecolor": "#2a3f5f"
            },
            "type": "carpet"
           }
          ],
          "choropleth": [
           {
            "colorbar": {
             "outlinewidth": 0,
             "ticks": ""
            },
            "type": "choropleth"
           }
          ],
          "contour": [
           {
            "colorbar": {
             "outlinewidth": 0,
             "ticks": ""
            },
            "colorscale": [
             [
              0,
              "#0d0887"
             ],
             [
              0.1111111111111111,
              "#46039f"
             ],
             [
              0.2222222222222222,
              "#7201a8"
             ],
             [
              0.3333333333333333,
              "#9c179e"
             ],
             [
              0.4444444444444444,
              "#bd3786"
             ],
             [
              0.5555555555555556,
              "#d8576b"
             ],
             [
              0.6666666666666666,
              "#ed7953"
             ],
             [
              0.7777777777777778,
              "#fb9f3a"
             ],
             [
              0.8888888888888888,
              "#fdca26"
             ],
             [
              1,
              "#f0f921"
             ]
            ],
            "type": "contour"
           }
          ],
          "contourcarpet": [
           {
            "colorbar": {
             "outlinewidth": 0,
             "ticks": ""
            },
            "type": "contourcarpet"
           }
          ],
          "heatmap": [
           {
            "colorbar": {
             "outlinewidth": 0,
             "ticks": ""
            },
            "colorscale": [
             [
              0,
              "#0d0887"
             ],
             [
              0.1111111111111111,
              "#46039f"
             ],
             [
              0.2222222222222222,
              "#7201a8"
             ],
             [
              0.3333333333333333,
              "#9c179e"
             ],
             [
              0.4444444444444444,
              "#bd3786"
             ],
             [
              0.5555555555555556,
              "#d8576b"
             ],
             [
              0.6666666666666666,
              "#ed7953"
             ],
             [
              0.7777777777777778,
              "#fb9f3a"
             ],
             [
              0.8888888888888888,
              "#fdca26"
             ],
             [
              1,
              "#f0f921"
             ]
            ],
            "type": "heatmap"
           }
          ],
          "heatmapgl": [
           {
            "colorbar": {
             "outlinewidth": 0,
             "ticks": ""
            },
            "colorscale": [
             [
              0,
              "#0d0887"
             ],
             [
              0.1111111111111111,
              "#46039f"
             ],
             [
              0.2222222222222222,
              "#7201a8"
             ],
             [
              0.3333333333333333,
              "#9c179e"
             ],
             [
              0.4444444444444444,
              "#bd3786"
             ],
             [
              0.5555555555555556,
              "#d8576b"
             ],
             [
              0.6666666666666666,
              "#ed7953"
             ],
             [
              0.7777777777777778,
              "#fb9f3a"
             ],
             [
              0.8888888888888888,
              "#fdca26"
             ],
             [
              1,
              "#f0f921"
             ]
            ],
            "type": "heatmapgl"
           }
          ],
          "histogram": [
           {
            "marker": {
             "pattern": {
              "fillmode": "overlay",
              "size": 10,
              "solidity": 0.2
             }
            },
            "type": "histogram"
           }
          ],
          "histogram2d": [
           {
            "colorbar": {
             "outlinewidth": 0,
             "ticks": ""
            },
            "colorscale": [
             [
              0,
              "#0d0887"
             ],
             [
              0.1111111111111111,
              "#46039f"
             ],
             [
              0.2222222222222222,
              "#7201a8"
             ],
             [
              0.3333333333333333,
              "#9c179e"
             ],
             [
              0.4444444444444444,
              "#bd3786"
             ],
             [
              0.5555555555555556,
              "#d8576b"
             ],
             [
              0.6666666666666666,
              "#ed7953"
             ],
             [
              0.7777777777777778,
              "#fb9f3a"
             ],
             [
              0.8888888888888888,
              "#fdca26"
             ],
             [
              1,
              "#f0f921"
             ]
            ],
            "type": "histogram2d"
           }
          ],
          "histogram2dcontour": [
           {
            "colorbar": {
             "outlinewidth": 0,
             "ticks": ""
            },
            "colorscale": [
             [
              0,
              "#0d0887"
             ],
             [
              0.1111111111111111,
              "#46039f"
             ],
             [
              0.2222222222222222,
              "#7201a8"
             ],
             [
              0.3333333333333333,
              "#9c179e"
             ],
             [
              0.4444444444444444,
              "#bd3786"
             ],
             [
              0.5555555555555556,
              "#d8576b"
             ],
             [
              0.6666666666666666,
              "#ed7953"
             ],
             [
              0.7777777777777778,
              "#fb9f3a"
             ],
             [
              0.8888888888888888,
              "#fdca26"
             ],
             [
              1,
              "#f0f921"
             ]
            ],
            "type": "histogram2dcontour"
           }
          ],
          "mesh3d": [
           {
            "colorbar": {
             "outlinewidth": 0,
             "ticks": ""
            },
            "type": "mesh3d"
           }
          ],
          "parcoords": [
           {
            "line": {
             "colorbar": {
              "outlinewidth": 0,
              "ticks": ""
             }
            },
            "type": "parcoords"
           }
          ],
          "pie": [
           {
            "automargin": true,
            "type": "pie"
           }
          ],
          "scatter": [
           {
            "marker": {
             "colorbar": {
              "outlinewidth": 0,
              "ticks": ""
             }
            },
            "type": "scatter"
           }
          ],
          "scatter3d": [
           {
            "line": {
             "colorbar": {
              "outlinewidth": 0,
              "ticks": ""
             }
            },
            "marker": {
             "colorbar": {
              "outlinewidth": 0,
              "ticks": ""
             }
            },
            "type": "scatter3d"
           }
          ],
          "scattercarpet": [
           {
            "marker": {
             "colorbar": {
              "outlinewidth": 0,
              "ticks": ""
             }
            },
            "type": "scattercarpet"
           }
          ],
          "scattergeo": [
           {
            "marker": {
             "colorbar": {
              "outlinewidth": 0,
              "ticks": ""
             }
            },
            "type": "scattergeo"
           }
          ],
          "scattergl": [
           {
            "marker": {
             "colorbar": {
              "outlinewidth": 0,
              "ticks": ""
             }
            },
            "type": "scattergl"
           }
          ],
          "scattermapbox": [
           {
            "marker": {
             "colorbar": {
              "outlinewidth": 0,
              "ticks": ""
             }
            },
            "type": "scattermapbox"
           }
          ],
          "scatterpolar": [
           {
            "marker": {
             "colorbar": {
              "outlinewidth": 0,
              "ticks": ""
             }
            },
            "type": "scatterpolar"
           }
          ],
          "scatterpolargl": [
           {
            "marker": {
             "colorbar": {
              "outlinewidth": 0,
              "ticks": ""
             }
            },
            "type": "scatterpolargl"
           }
          ],
          "scatterternary": [
           {
            "marker": {
             "colorbar": {
              "outlinewidth": 0,
              "ticks": ""
             }
            },
            "type": "scatterternary"
           }
          ],
          "surface": [
           {
            "colorbar": {
             "outlinewidth": 0,
             "ticks": ""
            },
            "colorscale": [
             [
              0,
              "#0d0887"
             ],
             [
              0.1111111111111111,
              "#46039f"
             ],
             [
              0.2222222222222222,
              "#7201a8"
             ],
             [
              0.3333333333333333,
              "#9c179e"
             ],
             [
              0.4444444444444444,
              "#bd3786"
             ],
             [
              0.5555555555555556,
              "#d8576b"
             ],
             [
              0.6666666666666666,
              "#ed7953"
             ],
             [
              0.7777777777777778,
              "#fb9f3a"
             ],
             [
              0.8888888888888888,
              "#fdca26"
             ],
             [
              1,
              "#f0f921"
             ]
            ],
            "type": "surface"
           }
          ],
          "table": [
           {
            "cells": {
             "fill": {
              "color": "#EBF0F8"
             },
             "line": {
              "color": "white"
             }
            },
            "header": {
             "fill": {
              "color": "#C8D4E3"
             },
             "line": {
              "color": "white"
             }
            },
            "type": "table"
           }
          ]
         },
         "layout": {
          "annotationdefaults": {
           "arrowcolor": "#2a3f5f",
           "arrowhead": 0,
           "arrowwidth": 1
          },
          "autotypenumbers": "strict",
          "coloraxis": {
           "colorbar": {
            "outlinewidth": 0,
            "ticks": ""
           }
          },
          "colorscale": {
           "diverging": [
            [
             0,
             "#8e0152"
            ],
            [
             0.1,
             "#c51b7d"
            ],
            [
             0.2,
             "#de77ae"
            ],
            [
             0.3,
             "#f1b6da"
            ],
            [
             0.4,
             "#fde0ef"
            ],
            [
             0.5,
             "#f7f7f7"
            ],
            [
             0.6,
             "#e6f5d0"
            ],
            [
             0.7,
             "#b8e186"
            ],
            [
             0.8,
             "#7fbc41"
            ],
            [
             0.9,
             "#4d9221"
            ],
            [
             1,
             "#276419"
            ]
           ],
           "sequential": [
            [
             0,
             "#0d0887"
            ],
            [
             0.1111111111111111,
             "#46039f"
            ],
            [
             0.2222222222222222,
             "#7201a8"
            ],
            [
             0.3333333333333333,
             "#9c179e"
            ],
            [
             0.4444444444444444,
             "#bd3786"
            ],
            [
             0.5555555555555556,
             "#d8576b"
            ],
            [
             0.6666666666666666,
             "#ed7953"
            ],
            [
             0.7777777777777778,
             "#fb9f3a"
            ],
            [
             0.8888888888888888,
             "#fdca26"
            ],
            [
             1,
             "#f0f921"
            ]
           ],
           "sequentialminus": [
            [
             0,
             "#0d0887"
            ],
            [
             0.1111111111111111,
             "#46039f"
            ],
            [
             0.2222222222222222,
             "#7201a8"
            ],
            [
             0.3333333333333333,
             "#9c179e"
            ],
            [
             0.4444444444444444,
             "#bd3786"
            ],
            [
             0.5555555555555556,
             "#d8576b"
            ],
            [
             0.6666666666666666,
             "#ed7953"
            ],
            [
             0.7777777777777778,
             "#fb9f3a"
            ],
            [
             0.8888888888888888,
             "#fdca26"
            ],
            [
             1,
             "#f0f921"
            ]
           ]
          },
          "colorway": [
           "#636efa",
           "#EF553B",
           "#00cc96",
           "#ab63fa",
           "#FFA15A",
           "#19d3f3",
           "#FF6692",
           "#B6E880",
           "#FF97FF",
           "#FECB52"
          ],
          "font": {
           "color": "#2a3f5f"
          },
          "geo": {
           "bgcolor": "white",
           "lakecolor": "white",
           "landcolor": "#E5ECF6",
           "showlakes": true,
           "showland": true,
           "subunitcolor": "white"
          },
          "hoverlabel": {
           "align": "left"
          },
          "hovermode": "closest",
          "mapbox": {
           "style": "light"
          },
          "paper_bgcolor": "white",
          "plot_bgcolor": "#E5ECF6",
          "polar": {
           "angularaxis": {
            "gridcolor": "white",
            "linecolor": "white",
            "ticks": ""
           },
           "bgcolor": "#E5ECF6",
           "radialaxis": {
            "gridcolor": "white",
            "linecolor": "white",
            "ticks": ""
           }
          },
          "scene": {
           "xaxis": {
            "backgroundcolor": "#E5ECF6",
            "gridcolor": "white",
            "gridwidth": 2,
            "linecolor": "white",
            "showbackground": true,
            "ticks": "",
            "zerolinecolor": "white"
           },
           "yaxis": {
            "backgroundcolor": "#E5ECF6",
            "gridcolor": "white",
            "gridwidth": 2,
            "linecolor": "white",
            "showbackground": true,
            "ticks": "",
            "zerolinecolor": "white"
           },
           "zaxis": {
            "backgroundcolor": "#E5ECF6",
            "gridcolor": "white",
            "gridwidth": 2,
            "linecolor": "white",
            "showbackground": true,
            "ticks": "",
            "zerolinecolor": "white"
           }
          },
          "shapedefaults": {
           "line": {
            "color": "#2a3f5f"
           }
          },
          "ternary": {
           "aaxis": {
            "gridcolor": "white",
            "linecolor": "white",
            "ticks": ""
           },
           "baxis": {
            "gridcolor": "white",
            "linecolor": "white",
            "ticks": ""
           },
           "bgcolor": "#E5ECF6",
           "caxis": {
            "gridcolor": "white",
            "linecolor": "white",
            "ticks": ""
           }
          },
          "title": {
           "x": 0.05
          },
          "xaxis": {
           "automargin": true,
           "gridcolor": "white",
           "linecolor": "white",
           "ticks": "",
           "title": {
            "standoff": 15
           },
           "zerolinecolor": "white",
           "zerolinewidth": 2
          },
          "yaxis": {
           "automargin": true,
           "gridcolor": "white",
           "linecolor": "white",
           "ticks": "",
           "title": {
            "standoff": 15
           },
           "zerolinecolor": "white",
           "zerolinewidth": 2
          }
         }
        },
        "width": 1000,
        "xaxis": {
         "showgrid": false,
         "showticklabels": false,
         "title": {
          "text": "Policies` aspects"
         }
        },
        "yaxis": {
         "showgrid": true,
         "title": {
          "text": "Percent of aspect in corpus"
         }
        }
       }
      },
      "text/html": [
       "<div>                            <div id=\"02bd3fb0-36b1-44c5-9ea5-cfa9002d5fd7\" class=\"plotly-graph-div\" style=\"height:650px; width:1000px;\"></div>            <script type=\"text/javascript\">                require([\"plotly\"], function(Plotly) {                    window.PLOTLYENV=window.PLOTLYENV || {};                                    if (document.getElementById(\"02bd3fb0-36b1-44c5-9ea5-cfa9002d5fd7\")) {                    Plotly.newPlot(                        \"02bd3fb0-36b1-44c5-9ea5-cfa9002d5fd7\",                        [{\"name\":\"Third party sharing: Advertising and analytics\",\"y\":[29.3491124260355],\"type\":\"bar\"},{\"name\":\"Data security\",\"y\":[7.100591715976331],\"type\":\"bar\"},{\"name\":\"First party collection: Other\",\"y\":[0.2366863905325444],\"type\":\"bar\"},{\"name\":\"Third party sharing in case of<br>merge and acquisition\",\"y\":[0.1183431952662722],\"type\":\"bar\"},{\"name\":\"First party collection: Generic information\",\"y\":[24.142011834319526],\"type\":\"bar\"},{\"name\":\"Special audience: Children\",\"y\":[7.6923076923076925],\"type\":\"bar\"},{\"name\":\"Special audience: California residents\",\"y\":[0.2366863905325444],\"type\":\"bar\"},{\"name\":\"First party collection: Account information\",\"y\":[1.4201183431952662],\"type\":\"bar\"},{\"name\":\"First party collection: Data about employees\",\"y\":[0.4733727810650888],\"type\":\"bar\"},{\"name\":\"First party collection: tracking data (cookies)\",\"y\":[1.8934911242603552],\"type\":\"bar\"},{\"name\":\"First party collection: Opt-in, opt-out<br>for marketing purposes\",\"y\":[4.733727810650888],\"type\":\"bar\"},{\"name\":\"Legal basis & Data protection\",\"y\":[0.4733727810650888],\"type\":\"bar\"},{\"name\":\"Policy change\",\"y\":[15.502958579881657],\"type\":\"bar\"},{\"name\":\"Organization contact information\",\"y\":[6.627218934911243],\"type\":\"bar\"}],                        {\"template\":{\"data\":{\"bar\":[{\"error_x\":{\"color\":\"#2a3f5f\"},\"error_y\":{\"color\":\"#2a3f5f\"},\"marker\":{\"line\":{\"color\":\"#E5ECF6\",\"width\":0.5},\"pattern\":{\"fillmode\":\"overlay\",\"size\":10,\"solidity\":0.2}},\"type\":\"bar\"}],\"barpolar\":[{\"marker\":{\"line\":{\"color\":\"#E5ECF6\",\"width\":0.5},\"pattern\":{\"fillmode\":\"overlay\",\"size\":10,\"solidity\":0.2}},\"type\":\"barpolar\"}],\"carpet\":[{\"aaxis\":{\"endlinecolor\":\"#2a3f5f\",\"gridcolor\":\"white\",\"linecolor\":\"white\",\"minorgridcolor\":\"white\",\"startlinecolor\":\"#2a3f5f\"},\"baxis\":{\"endlinecolor\":\"#2a3f5f\",\"gridcolor\":\"white\",\"linecolor\":\"white\",\"minorgridcolor\":\"white\",\"startlinecolor\":\"#2a3f5f\"},\"type\":\"carpet\"}],\"choropleth\":[{\"colorbar\":{\"outlinewidth\":0,\"ticks\":\"\"},\"type\":\"choropleth\"}],\"contour\":[{\"colorbar\":{\"outlinewidth\":0,\"ticks\":\"\"},\"colorscale\":[[0.0,\"#0d0887\"],[0.1111111111111111,\"#46039f\"],[0.2222222222222222,\"#7201a8\"],[0.3333333333333333,\"#9c179e\"],[0.4444444444444444,\"#bd3786\"],[0.5555555555555556,\"#d8576b\"],[0.6666666666666666,\"#ed7953\"],[0.7777777777777778,\"#fb9f3a\"],[0.8888888888888888,\"#fdca26\"],[1.0,\"#f0f921\"]],\"type\":\"contour\"}],\"contourcarpet\":[{\"colorbar\":{\"outlinewidth\":0,\"ticks\":\"\"},\"type\":\"contourcarpet\"}],\"heatmap\":[{\"colorbar\":{\"outlinewidth\":0,\"ticks\":\"\"},\"colorscale\":[[0.0,\"#0d0887\"],[0.1111111111111111,\"#46039f\"],[0.2222222222222222,\"#7201a8\"],[0.3333333333333333,\"#9c179e\"],[0.4444444444444444,\"#bd3786\"],[0.5555555555555556,\"#d8576b\"],[0.6666666666666666,\"#ed7953\"],[0.7777777777777778,\"#fb9f3a\"],[0.8888888888888888,\"#fdca26\"],[1.0,\"#f0f921\"]],\"type\":\"heatmap\"}],\"heatmapgl\":[{\"colorbar\":{\"outlinewidth\":0,\"ticks\":\"\"},\"colorscale\":[[0.0,\"#0d0887\"],[0.1111111111111111,\"#46039f\"],[0.2222222222222222,\"#7201a8\"],[0.3333333333333333,\"#9c179e\"],[0.4444444444444444,\"#bd3786\"],[0.5555555555555556,\"#d8576b\"],[0.6666666666666666,\"#ed7953\"],[0.7777777777777778,\"#fb9f3a\"],[0.8888888888888888,\"#fdca26\"],[1.0,\"#f0f921\"]],\"type\":\"heatmapgl\"}],\"histogram\":[{\"marker\":{\"pattern\":{\"fillmode\":\"overlay\",\"size\":10,\"solidity\":0.2}},\"type\":\"histogram\"}],\"histogram2d\":[{\"colorbar\":{\"outlinewidth\":0,\"ticks\":\"\"},\"colorscale\":[[0.0,\"#0d0887\"],[0.1111111111111111,\"#46039f\"],[0.2222222222222222,\"#7201a8\"],[0.3333333333333333,\"#9c179e\"],[0.4444444444444444,\"#bd3786\"],[0.5555555555555556,\"#d8576b\"],[0.6666666666666666,\"#ed7953\"],[0.7777777777777778,\"#fb9f3a\"],[0.8888888888888888,\"#fdca26\"],[1.0,\"#f0f921\"]],\"type\":\"histogram2d\"}],\"histogram2dcontour\":[{\"colorbar\":{\"outlinewidth\":0,\"ticks\":\"\"},\"colorscale\":[[0.0,\"#0d0887\"],[0.1111111111111111,\"#46039f\"],[0.2222222222222222,\"#7201a8\"],[0.3333333333333333,\"#9c179e\"],[0.4444444444444444,\"#bd3786\"],[0.5555555555555556,\"#d8576b\"],[0.6666666666666666,\"#ed7953\"],[0.7777777777777778,\"#fb9f3a\"],[0.8888888888888888,\"#fdca26\"],[1.0,\"#f0f921\"]],\"type\":\"histogram2dcontour\"}],\"mesh3d\":[{\"colorbar\":{\"outlinewidth\":0,\"ticks\":\"\"},\"type\":\"mesh3d\"}],\"parcoords\":[{\"line\":{\"colorbar\":{\"outlinewidth\":0,\"ticks\":\"\"}},\"type\":\"parcoords\"}],\"pie\":[{\"automargin\":true,\"type\":\"pie\"}],\"scatter\":[{\"marker\":{\"colorbar\":{\"outlinewidth\":0,\"ticks\":\"\"}},\"type\":\"scatter\"}],\"scatter3d\":[{\"line\":{\"colorbar\":{\"outlinewidth\":0,\"ticks\":\"\"}},\"marker\":{\"colorbar\":{\"outlinewidth\":0,\"ticks\":\"\"}},\"type\":\"scatter3d\"}],\"scattercarpet\":[{\"marker\":{\"colorbar\":{\"outlinewidth\":0,\"ticks\":\"\"}},\"type\":\"scattercarpet\"}],\"scattergeo\":[{\"marker\":{\"colorbar\":{\"outlinewidth\":0,\"ticks\":\"\"}},\"type\":\"scattergeo\"}],\"scattergl\":[{\"marker\":{\"colorbar\":{\"outlinewidth\":0,\"ticks\":\"\"}},\"type\":\"scattergl\"}],\"scattermapbox\":[{\"marker\":{\"colorbar\":{\"outlinewidth\":0,\"ticks\":\"\"}},\"type\":\"scattermapbox\"}],\"scatterpolar\":[{\"marker\":{\"colorbar\":{\"outlinewidth\":0,\"ticks\":\"\"}},\"type\":\"scatterpolar\"}],\"scatterpolargl\":[{\"marker\":{\"colorbar\":{\"outlinewidth\":0,\"ticks\":\"\"}},\"type\":\"scatterpolargl\"}],\"scatterternary\":[{\"marker\":{\"colorbar\":{\"outlinewidth\":0,\"ticks\":\"\"}},\"type\":\"scatterternary\"}],\"surface\":[{\"colorbar\":{\"outlinewidth\":0,\"ticks\":\"\"},\"colorscale\":[[0.0,\"#0d0887\"],[0.1111111111111111,\"#46039f\"],[0.2222222222222222,\"#7201a8\"],[0.3333333333333333,\"#9c179e\"],[0.4444444444444444,\"#bd3786\"],[0.5555555555555556,\"#d8576b\"],[0.6666666666666666,\"#ed7953\"],[0.7777777777777778,\"#fb9f3a\"],[0.8888888888888888,\"#fdca26\"],[1.0,\"#f0f921\"]],\"type\":\"surface\"}],\"table\":[{\"cells\":{\"fill\":{\"color\":\"#EBF0F8\"},\"line\":{\"color\":\"white\"}},\"header\":{\"fill\":{\"color\":\"#C8D4E3\"},\"line\":{\"color\":\"white\"}},\"type\":\"table\"}]},\"layout\":{\"annotationdefaults\":{\"arrowcolor\":\"#2a3f5f\",\"arrowhead\":0,\"arrowwidth\":1},\"autotypenumbers\":\"strict\",\"coloraxis\":{\"colorbar\":{\"outlinewidth\":0,\"ticks\":\"\"}},\"colorscale\":{\"diverging\":[[0,\"#8e0152\"],[0.1,\"#c51b7d\"],[0.2,\"#de77ae\"],[0.3,\"#f1b6da\"],[0.4,\"#fde0ef\"],[0.5,\"#f7f7f7\"],[0.6,\"#e6f5d0\"],[0.7,\"#b8e186\"],[0.8,\"#7fbc41\"],[0.9,\"#4d9221\"],[1,\"#276419\"]],\"sequential\":[[0.0,\"#0d0887\"],[0.1111111111111111,\"#46039f\"],[0.2222222222222222,\"#7201a8\"],[0.3333333333333333,\"#9c179e\"],[0.4444444444444444,\"#bd3786\"],[0.5555555555555556,\"#d8576b\"],[0.6666666666666666,\"#ed7953\"],[0.7777777777777778,\"#fb9f3a\"],[0.8888888888888888,\"#fdca26\"],[1.0,\"#f0f921\"]],\"sequentialminus\":[[0.0,\"#0d0887\"],[0.1111111111111111,\"#46039f\"],[0.2222222222222222,\"#7201a8\"],[0.3333333333333333,\"#9c179e\"],[0.4444444444444444,\"#bd3786\"],[0.5555555555555556,\"#d8576b\"],[0.6666666666666666,\"#ed7953\"],[0.7777777777777778,\"#fb9f3a\"],[0.8888888888888888,\"#fdca26\"],[1.0,\"#f0f921\"]]},\"colorway\":[\"#636efa\",\"#EF553B\",\"#00cc96\",\"#ab63fa\",\"#FFA15A\",\"#19d3f3\",\"#FF6692\",\"#B6E880\",\"#FF97FF\",\"#FECB52\"],\"font\":{\"color\":\"#2a3f5f\"},\"geo\":{\"bgcolor\":\"white\",\"lakecolor\":\"white\",\"landcolor\":\"#E5ECF6\",\"showlakes\":true,\"showland\":true,\"subunitcolor\":\"white\"},\"hoverlabel\":{\"align\":\"left\"},\"hovermode\":\"closest\",\"mapbox\":{\"style\":\"light\"},\"paper_bgcolor\":\"white\",\"plot_bgcolor\":\"#E5ECF6\",\"polar\":{\"angularaxis\":{\"gridcolor\":\"white\",\"linecolor\":\"white\",\"ticks\":\"\"},\"bgcolor\":\"#E5ECF6\",\"radialaxis\":{\"gridcolor\":\"white\",\"linecolor\":\"white\",\"ticks\":\"\"}},\"scene\":{\"xaxis\":{\"backgroundcolor\":\"#E5ECF6\",\"gridcolor\":\"white\",\"gridwidth\":2,\"linecolor\":\"white\",\"showbackground\":true,\"ticks\":\"\",\"zerolinecolor\":\"white\"},\"yaxis\":{\"backgroundcolor\":\"#E5ECF6\",\"gridcolor\":\"white\",\"gridwidth\":2,\"linecolor\":\"white\",\"showbackground\":true,\"ticks\":\"\",\"zerolinecolor\":\"white\"},\"zaxis\":{\"backgroundcolor\":\"#E5ECF6\",\"gridcolor\":\"white\",\"gridwidth\":2,\"linecolor\":\"white\",\"showbackground\":true,\"ticks\":\"\",\"zerolinecolor\":\"white\"}},\"shapedefaults\":{\"line\":{\"color\":\"#2a3f5f\"}},\"ternary\":{\"aaxis\":{\"gridcolor\":\"white\",\"linecolor\":\"white\",\"ticks\":\"\"},\"baxis\":{\"gridcolor\":\"white\",\"linecolor\":\"white\",\"ticks\":\"\"},\"bgcolor\":\"#E5ECF6\",\"caxis\":{\"gridcolor\":\"white\",\"linecolor\":\"white\",\"ticks\":\"\"}},\"title\":{\"x\":0.05},\"xaxis\":{\"automargin\":true,\"gridcolor\":\"white\",\"linecolor\":\"white\",\"ticks\":\"\",\"title\":{\"standoff\":15},\"zerolinecolor\":\"white\",\"zerolinewidth\":2},\"yaxis\":{\"automargin\":true,\"gridcolor\":\"white\",\"linecolor\":\"white\",\"ticks\":\"\",\"title\":{\"standoff\":15},\"zerolinecolor\":\"white\",\"zerolinewidth\":2}}},\"font\":{\"size\":18,\"color\":\"#000000\"},\"legend\":{\"yanchor\":\"top\",\"xanchor\":\"left\",\"x\":1,\"y\":1},\"colorway\":[\"#778AAE\",\"#6C7C32\",\"#B2828D\",\"#FC0080\",\"#FB00D1\",\"#00A08B\",\"#511CFB\",\"#EB663B\",\"#750D86\",\"#DA16FF\",\"#FB0D0D\",\"#1CA71C\",\"#E15F99\",\"#2E91E5\"],\"showlegend\":true,\"barmode\":\"group\",\"width\":1000,\"height\":650,\"xaxis\":{\"title\":{\"text\":\"Policies` aspects\"},\"showgrid\":false,\"showticklabels\":false},\"yaxis\":{\"title\":{\"text\":\"Percent of aspect in corpus\"},\"showgrid\":true}},                        {\"responsive\": true}                    ).then(function(){\n",
       "                            \n",
       "var gd = document.getElementById('02bd3fb0-36b1-44c5-9ea5-cfa9002d5fd7');\n",
       "var x = new MutationObserver(function (mutations, observer) {{\n",
       "        var display = window.getComputedStyle(gd).display;\n",
       "        if (!display || display === 'none') {{\n",
       "            console.log([gd, 'removed!']);\n",
       "            Plotly.purge(gd);\n",
       "            observer.disconnect();\n",
       "        }}\n",
       "}});\n",
       "\n",
       "// Listen for the removal of the full notebook cells\n",
       "var notebookContainer = gd.closest('#notebook-container');\n",
       "if (notebookContainer) {{\n",
       "    x.observe(notebookContainer, {childList: true});\n",
       "}}\n",
       "\n",
       "// Listen for the clearing of the current output cell\n",
       "var outputEl = gd.closest('.output');\n",
       "if (outputEl) {{\n",
       "    x.observe(outputEl, {childList: true});\n",
       "}}\n",
       "\n",
       "                        })                };                });            </script>        </div>"
      ]
     },
     "metadata": {},
     "output_type": "display_data"
    }
   ],
   "source": [
    "fig.write_image(\"pictures/iot_ClusterizeBars.png\")\n",
    "fig"
   ]
  },
  {
   "cell_type": "code",
   "execution_count": null,
   "id": "cec77d63",
   "metadata": {},
   "outputs": [],
   "source": []
  },
  {
   "cell_type": "code",
   "execution_count": null,
   "id": "68e2c522",
   "metadata": {},
   "outputs": [],
   "source": []
  }
 ],
 "metadata": {
  "kernelspec": {
   "display_name": "Python 3 (ipykernel)",
   "language": "python",
   "name": "python3"
  },
  "language_info": {
   "codemirror_mode": {
    "name": "ipython",
    "version": 3
   },
   "file_extension": ".py",
   "mimetype": "text/x-python",
   "name": "python",
   "nbconvert_exporter": "python",
   "pygments_lexer": "ipython3",
   "version": "3.10.2"
  }
 },
 "nbformat": 4,
 "nbformat_minor": 5
}
