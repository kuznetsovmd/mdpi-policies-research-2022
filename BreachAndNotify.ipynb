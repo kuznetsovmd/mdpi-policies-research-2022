{
 "cells": [
  {
   "cell_type": "markdown",
   "id": "2ca8c41e",
   "metadata": {},
   "source": [
    "<h1>Preparing Data</h1>"
   ]
  },
  {
   "cell_type": "code",
   "execution_count": 15,
   "id": "bdec3ecd",
   "metadata": {},
   "outputs": [],
   "source": [
    "from collections import Counter\n",
    "from scripts.functions import aggregate_groups\n",
    "from scripts.groups import groups\n",
    "from scripts.lda import LDA\n",
    "from scripts.functions import files\n",
    "import os, json\n",
    "\n",
    "\n",
    "policies = []\n",
    "\n",
    "fs = files(\"resources/datasets/plain_policies\", r\".*\")\n",
    "for f in fs:\n",
    "    with open(f, \"r\", encoding=\"utf-8\") as fl:\n",
    "        policies.append({\"policy\": os.path.basename(f), \"paragraphs\": [p for p in fl.read().split(\"\\n\") if len(p) >= 100]})\n",
    "        \n",
    "catch = []\n",
    "for pol in policies: \n",
    "    p = {\"policy\": pol[\"policy\"], \"paragraphs\": []}\n",
    "    for par in pol[\"paragraphs\"]:\n",
    "        if \"notif\" in par \\\n",
    "            or \"breach\" in par \\\n",
    "            or \"updat\" in par:\n",
    "            p[\"paragraphs\"].append(par)\n",
    "    catch.append(p)\n",
    "    \n",
    "\n",
    "with open(\"./breach_and_notify.json\", 'w') as outfile:\n",
    "    json.dump(catch, outfile)\n"
   ]
  },
  {
   "cell_type": "code",
   "execution_count": null,
   "id": "1079c28e-fa8d-4b70-8f73-3337157ad1cf",
   "metadata": {},
   "outputs": [],
   "source": []
  }
 ],
 "metadata": {
  "kernelspec": {
   "display_name": "venv",
   "language": "python",
   "name": "venv"
  },
  "language_info": {
   "codemirror_mode": {
    "name": "ipython",
    "version": 3
   },
   "file_extension": ".py",
   "mimetype": "text/x-python",
   "name": "python",
   "nbconvert_exporter": "python",
   "pygments_lexer": "ipython3",
   "version": "3.9.7"
  }
 },
 "nbformat": 4,
 "nbformat_minor": 5
}
