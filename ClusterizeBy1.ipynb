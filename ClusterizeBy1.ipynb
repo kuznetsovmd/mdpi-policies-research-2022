{
 "cells": [
  {
   "cell_type": "markdown",
   "id": "b4690102",
   "metadata": {},
   "source": [
    "<h1>Preparing Data</h1>"
   ]
  },
  {
   "cell_type": "code",
   "execution_count": null,
   "id": "97f75965",
   "metadata": {},
   "outputs": [
    {
     "name": "stderr",
     "output_type": "stream",
     "text": [
      "[nltk_data] Downloading package punkt to /home/user/nltk_data...\n",
      "[nltk_data]   Package punkt is already up-to-date!\n",
      "[nltk_data] Downloading package wordnet to /home/user/nltk_data...\n",
      "[nltk_data]   Package wordnet is already up-to-date!\n",
      "[nltk_data] Downloading package stopwords to /home/user/nltk_data...\n",
      "[nltk_data]   Package stopwords is already up-to-date!\n",
      "[nltk_data] Downloading package omw-1.4 to /home/user/nltk_data...\n",
      "[nltk_data]   Package omw-1.4 is already up-to-date!\n"
     ]
    }
   ],
   "source": [
    "from collections import Counter\n",
    "\n",
    "from scripts.functions import aggregate_groups\n",
    "from scripts.groups import groups\n",
    "from scripts.lda import LDA\n",
    "from scripts.functions import files\n",
    "\n",
    "\n",
    "paragraphs_labeled = []\n",
    "fs = files(\"resources/datasets/plain_policies\", r\".*\")\n",
    "for f in fs:\n",
    "    with open(f, \"r\", encoding=\"utf-8\") as fl:\n",
    "        paragraphs_labeled.extend([p for p in fl.read().split(\"\\n\") if len(p) >= 100])\n",
    "\n",
    "iot_tfidf = LDA(paragraphs_labeled, freq=\"tf-idf\", topics_count=15, saved=\"resources/models/iot_tfidf\")\n",
    "\n",
    "policies = []\n",
    "fs = files(\"resources/datasets/plain_policies\", r\".*\")\n",
    "for f in fs:\n",
    "    with open(f, \"r\", encoding=\"utf-8\") as fl:\n",
    "        policies.append([(\"?\", p) for p in fl.read().split(\"\\n\") if len(p) >= 100])\n",
    "\n",
    "grouped = [aggregate_groups(iot_tfidf, p, groups)[1] for p in policies]\n",
    "grouped = [Counter(g) for g in grouped]\n",
    "\n",
    "keys = [g[\"name\"] for g in groups]\n",
    "\n",
    "stats1 = grouped[:296]\n",
    "stats2 = grouped[296:592]"
   ]
  },
  {
   "cell_type": "code",
   "execution_count": null,
   "id": "40805b09",
   "metadata": {},
   "outputs": [],
   "source": [
    "keys"
   ]
  },
  {
   "cell_type": "code",
   "execution_count": null,
   "id": "9c8bd092",
   "metadata": {},
   "outputs": [],
   "source": [
    "grouped[:5]"
   ]
  },
  {
   "cell_type": "markdown",
   "id": "fa1f56dc",
   "metadata": {},
   "source": [
    "<h1>Chart 1</h1>"
   ]
  },
  {
   "cell_type": "code",
   "execution_count": null,
   "id": "024e4f2d",
   "metadata": {},
   "outputs": [],
   "source": [
    "import plotly.express as px\n",
    "import plotly.graph_objects as go\n",
    "\n",
    "fig = go.Figure()\n",
    "\n",
    "for i, k in enumerate(keys):\n",
    "    fig.add_trace(go.Bar(\n",
    "        name=k,\n",
    "        y=[v[k] for v in stats1],\n",
    "        x=[i for i in range(296)]\n",
    "    ))\n",
    "\n",
    "fig.update_layout(\n",
    "    title=\"Privacy policies` aspects for each document\",\n",
    "    barmode=\"stack\",\n",
    "    colorway=px.colors.qualitative.Dark24,\n",
    ")\n",
    "\n",
    "fig.update_xaxes(showgrid=True, title_text='Privacy policies` documents')\n",
    "fig.update_yaxes(showgrid=True, title_text='Aspects` presences')\n",
    "\n",
    "pass"
   ]
  },
  {
   "cell_type": "code",
   "execution_count": null,
   "id": "f2565fdb-31d8-4ab1-aca6-32ab7017fd4c",
   "metadata": {},
   "outputs": [],
   "source": [
    "fig"
   ]
  },
  {
   "cell_type": "markdown",
   "id": "1fa30a4d",
   "metadata": {},
   "source": [
    "<h1>Chart 2</h1>"
   ]
  },
  {
   "cell_type": "code",
   "execution_count": null,
   "id": "bd857a9d",
   "metadata": {},
   "outputs": [],
   "source": [
    "import plotly.express as px\n",
    "import plotly.graph_objects as go\n",
    "\n",
    "fig = go.Figure()\n",
    "\n",
    "for i, k in enumerate(keys):\n",
    "    fig.add_bar(\n",
    "        name=k,\n",
    "        y=[v[k] for v in stats2],\n",
    "        x=[i for i in range(296, 592)]\n",
    "    )\n",
    "\n",
    "fig.update_layout(\n",
    "    title=\"Privacy policies` aspects for each document\",\n",
    "    barmode=\"stack\",\n",
    "    colorway=px.colors.qualitative.Dark24,\n",
    ")\n",
    "\n",
    "fig.update_xaxes(showgrid=True, title_text='Privacy policies` documents')\n",
    "fig.update_yaxes(showgrid=True, title_text='Aspects` presences')\n",
    "\n",
    "pass"
   ]
  },
  {
   "cell_type": "code",
   "execution_count": null,
   "id": "7d3851ad-5003-431b-9908-7ebf9eac5e53",
   "metadata": {},
   "outputs": [],
   "source": [
    "fig"
   ]
  },
  {
   "cell_type": "code",
   "execution_count": null,
   "id": "79d480c5-8a1c-4a96-9081-1e3a210b9692",
   "metadata": {},
   "outputs": [],
   "source": []
  }
 ],
 "metadata": {
  "kernelspec": {
   "display_name": "Python 3 (ipykernel)",
   "language": "python",
   "name": "python3"
  },
  "language_info": {
   "codemirror_mode": {
    "name": "ipython",
    "version": 3
   },
   "file_extension": ".py",
   "mimetype": "text/x-python",
   "name": "python",
   "nbconvert_exporter": "python",
   "pygments_lexer": "ipython3",
   "version": "3.10.2"
  }
 },
 "nbformat": 4,
 "nbformat_minor": 5
}
